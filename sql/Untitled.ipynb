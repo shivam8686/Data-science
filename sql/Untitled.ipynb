{
 "cells": [
  {
   "cell_type": "code",
   "execution_count": 1,
   "id": "e645fea9-8422-4f80-b3d2-efd7feca0593",
   "metadata": {},
   "outputs": [
    {
     "name": "stdout",
     "output_type": "stream",
     "text": [
      "hello world\n"
     ]
    }
   ],
   "source": [
    "print(\"hello world\")\n"
   ]
  },
  {
   "cell_type": "code",
   "execution_count": 3,
   "id": "d7591515-3963-4dc8-abaf-e187de504ba7",
   "metadata": {},
   "outputs": [
    {
     "name": "stdout",
     "output_type": "stream",
     "text": [
      "My name is shivam vatsal\n"
     ]
    }
   ],
   "source": [
    "print(\"My name is shivam vatsal\")"
   ]
  },
  {
   "cell_type": "code",
   "execution_count": 4,
   "id": "e394f524-a2cd-478a-a610-4abf0fa4824a",
   "metadata": {},
   "outputs": [
    {
     "data": {
      "text/plain": [
       "50"
      ]
     },
     "execution_count": 4,
     "metadata": {},
     "output_type": "execute_result"
    }
   ],
   "source": [
    "24+26"
   ]
  },
  {
   "cell_type": "code",
   "execution_count": null,
   "id": "fd129f08-7993-4678-83c6-47dfcbc51fb7",
   "metadata": {},
   "outputs": [],
   "source": [
    " to run and execute the cell- shift+enter or alt + enter\n",
    "to add the cell above the current cell - esc +a"
   ]
  }
 ],
 "metadata": {
  "kernelspec": {
   "display_name": "Python 3 (ipykernel)",
   "language": "python",
   "name": "python3"
  },
  "language_info": {
   "codemirror_mode": {
    "name": "ipython",
    "version": 3
   },
   "file_extension": ".py",
   "mimetype": "text/x-python",
   "name": "python",
   "nbconvert_exporter": "python",
   "pygments_lexer": "ipython3",
   "version": "3.12.4"
  }
 },
 "nbformat": 4,
 "nbformat_minor": 5
}
